{
 "cells": [
  {
   "cell_type": "markdown",
   "metadata": {},
   "source": [
    "# Searching for interactions in a social network"
   ]
  },
  {
   "cell_type": "markdown",
   "metadata": {},
   "source": [
    "In this example, we will explore a social network (diaspora*: https://diasporafoundation.org/) and explore interactions between users. The analysis is done in a very naive way."
   ]
  },
  {
   "cell_type": "markdown",
   "metadata": {},
   "source": [
    "## Initialization"
   ]
  },
  {
   "cell_type": "markdown",
   "metadata": {},
   "source": [
    "As a first step, we will import the necessary libraries."
   ]
  },
  {
   "cell_type": "code",
   "execution_count": null,
   "metadata": {},
   "outputs": [],
   "source": [
    "import matplotlib.pyplot as plt\n",
    "import networkx as nx\n",
    "import requests\n",
    "from datetime import datetime\n",
    "\n",
    "%matplotlib inline"
   ]
  },
  {
   "cell_type": "markdown",
   "metadata": {},
   "source": [
    "Then we define some basic variables."
   ]
  },
  {
   "cell_type": "code",
   "execution_count": null,
   "metadata": {},
   "outputs": [],
   "source": [
    "url_main = 'https://diaspora.psyco.fr/tags/covid-19.json'\n",
    "url_post_pattern = 'https://diaspora.psyco.fr/posts/{guid}.json'"
   ]
  },
  {
   "cell_type": "markdown",
   "metadata": {},
   "source": [
    "## Collecting data"
   ]
  },
  {
   "cell_type": "markdown",
   "metadata": {},
   "source": [
    "We are going to collect the interactions between users and record them in a graph. In this example, we do not take into account the type of interaction, nor the direction of information propagation."
   ]
  },
  {
   "cell_type": "code",
   "execution_count": null,
   "metadata": {
    "scrolled": false
   },
   "outputs": [],
   "source": [
    "G = nx.Graph()\n",
    "max_time = None\n",
    "\n",
    "for _ in range(10):\n",
    "    if max_time is None:\n",
    "        url_flux = url_main\n",
    "    else:\n",
    "        url_flux = f'{url_main}?max_time={max_time}'\n",
    "    print(f'Parsing {url_flux}')\n",
    "    r_main = requests.get(url_flux)\n",
    "    if r_main.status_code  != 200:\n",
    "        print(f'Failed to retrieve main flux: {r_main.status_code}')\n",
    "        break\n",
    "    messages = r_main.json()\n",
    "    for message in messages:\n",
    "        interactions_count = message['interactions']['comments_count'] + message['interactions']['likes_count'] + message['interactions']['reshares_count']\n",
    "        if interactions_count > 0:\n",
    "            url_message = url_post_pattern.format(guid=message['guid'])\n",
    "            print(f'Interractions found. Parsing {url_message}')\n",
    "            r_message = requests.get(url_message)\n",
    "            if r_message.status_code != 200:\n",
    "                print(f'Failed to retrieve message: {r_message.status_code}')\n",
    "                continue\n",
    "            message_data = r_message.json()\n",
    "            message_author = message_data['author']['diaspora_id']\n",
    "            for interaction in ['likes', 'reshares', 'comments']:\n",
    "                for item in message_data['interactions'][interaction]:\n",
    "                    item_author = item['author']['diaspora_id']\n",
    "                    G.add_edge(message_author, item_author)\n",
    "    max_time = int(datetime.strptime(messages[-1]['created_at'], '%Y-%m-%dT%H:%M:%S.000Z').timestamp())\n",
    "    print(f'next max_time: {max_time}')"
   ]
  },
  {
   "cell_type": "markdown",
   "metadata": {},
   "source": [
    "## Analysis"
   ]
  },
  {
   "cell_type": "markdown",
   "metadata": {},
   "source": [
    "Once the data has been collected, we can analyze it to find people of interest."
   ]
  },
  {
   "cell_type": "markdown",
   "metadata": {},
   "source": [
    "First, we visualize the graph in order to highlight the communities."
   ]
  },
  {
   "cell_type": "code",
   "execution_count": null,
   "metadata": {},
   "outputs": [],
   "source": [
    "fig = plt.figure(figsize=(24,12))\n",
    "nx.draw(G)\n",
    "plt.show()"
   ]
  },
  {
   "cell_type": "markdown",
   "metadata": {},
   "source": [
    "The visualization of the graph tells us that there is one main community and different anecdotal communities. We will focus on the main community and look for people who have the most interactions."
   ]
  },
  {
   "cell_type": "code",
   "execution_count": null,
   "metadata": {},
   "outputs": [],
   "source": [
    "component = sorted(nx.connected_components(G), key=lambda x : len(x), reverse=True)[0]\n",
    "subG = nx.subgraph(G, component)\n",
    "plt.figure(figsize=(24,12))\n",
    "nx.draw(subG, with_labels=True)\n",
    "plt.show()\n",
    "centrality = nx.degree_centrality(subG)\n",
    "users = sorted(centrality.keys(), key=lambda x: centrality[x], reverse=True)[:5]\n",
    "for user in users:\n",
    "    username, pod = user.split('@')\n",
    "    user_url = f'https://{pod}/u/{username}'\n",
    "    print(user, centrality[user], user_url)"
   ]
  },
  {
   "cell_type": "markdown",
   "metadata": {},
   "source": [
    "--------------------------\n",
    "\n",
    "&copy; Sébastien Adam 2020\n",
    "\n",
    "* Website: https://www.sebastienadam.be\n",
    "* diaspora*: https://diasp.de/u/sebastienadam\n",
    "* LinkedIn: https://www.linkedin.com/in/sebastien-adam-be/"
   ]
  }
 ],
 "metadata": {
  "kernelspec": {
   "display_name": "Python 3",
   "language": "python",
   "name": "python3"
  },
  "language_info": {
   "codemirror_mode": {
    "name": "ipython",
    "version": 3
   },
   "file_extension": ".py",
   "mimetype": "text/x-python",
   "name": "python",
   "nbconvert_exporter": "python",
   "pygments_lexer": "ipython3",
   "version": "3.7.4"
  }
 },
 "nbformat": 4,
 "nbformat_minor": 2
}
